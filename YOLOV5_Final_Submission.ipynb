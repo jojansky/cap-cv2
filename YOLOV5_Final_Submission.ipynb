{
  "nbformat": 4,
  "nbformat_minor": 0,
  "metadata": {
    "colab": {
      "name": "YOLOV5_Final_Submission.ipynb",
      "provenance": [],
      "collapsed_sections": [],
      "toc_visible": true
    },
    "kernelspec": {
      "name": "python3",
      "display_name": "Python 3"
    },
    "language_info": {
      "name": "python"
    },
    "accelerator": "GPU"
  },
  "cells": [
    {
      "cell_type": "markdown",
      "source": [
        "References:\n",
        "https://drive.google.com/drive/folders/1y6JWx2CpsOuka00uePe72jNgr7F9sK45?usp=sharingOriginal "
      ],
      "metadata": {
        "id": "aOJGP1iZ6fex"
      }
    },
    {
      "cell_type": "code",
      "source": [
        "import numpy as np\n",
        "import scipy as sp\n",
        "import matplotlib as mpl\n",
        "import matplotlib.pyplot as plt\n",
        "import pandas as pd\n",
        "import seaborn as sns\n",
        "%matplotlib inline\n",
        "\n",
        "import tensorflow as tf\n",
        "from tensorflow.keras.preprocessing.image import ImageDataGenerator\n",
        "from tensorflow.keras.applications import VGG16\n",
        "from tensorflow.keras import layers\n",
        "from tensorflow.keras import models\n",
        "from tensorflow.keras import regularizers,optimizers\n",
        "from keras.models import Sequential\n",
        "from tensorflow.keras.layers import Flatten\n",
        "from tensorflow.keras.layers import Dropout\n",
        "from tensorflow.keras.layers import Dense\n",
        "from tensorflow.keras.layers import Input\n",
        "from tensorflow.keras.models import Model\n",
        "from keras.layers import Conv2D, MaxPooling2D,Activation\n",
        "from tensorflow.keras.optimizers import Adam\n",
        "from tensorflow.keras.utils import to_categorical\n",
        "from tensorflow.keras.preprocessing.image import img_to_array\n",
        "from tensorflow.keras.preprocessing.image import load_img\n",
        "from sklearn.model_selection import train_test_split\n",
        "from sklearn.preprocessing import LabelBinarizer\n",
        "import pickle              # For saving models to disk and loading saved models\n",
        "import os\n",
        "import zipfile\n",
        "import PIL\n",
        "import PIL.Image\n",
        "import pathlib\n",
        "import cv2 as cv\n",
        "import shutil"
      ],
      "metadata": {
        "id": "grgS_jUC78gb"
      },
      "execution_count": null,
      "outputs": []
    },
    {
      "cell_type": "markdown",
      "source": [
        "#1.0 YOLO V5 - Preparing the Dataset"
      ],
      "metadata": {
        "id": "UJBIML5kJNrw"
      }
    },
    {
      "cell_type": "markdown",
      "source": [
        "## Google Drive \n",
        "\n",
        "Mounting,\n",
        "Creating directories in local VM.\n",
        "Setting Path Variables. "
      ],
      "metadata": {
        "id": "RhYoWsfZJVnK"
      }
    },
    {
      "cell_type": "code",
      "source": [
        "from google.colab import drive\n",
        "drive.mount('/content/drive/')"
      ],
      "metadata": {
        "colab": {
          "base_uri": "https://localhost:8080/"
        },
        "id": "j7KSWEegDt-o",
        "outputId": "f36ce410-c435-4dc3-aed9-3438a3b62915"
      },
      "execution_count": null,
      "outputs": [
        {
          "output_type": "stream",
          "name": "stdout",
          "text": [
            "Mounted at /content/drive/\n"
          ]
        }
      ]
    },
    {
      "cell_type": "markdown",
      "source": [
        "The goal is to copy the images dataset into the dataset present in the drive."
      ],
      "metadata": {
        "id": "L9qNW-caQunM"
      }
    },
    {
      "cell_type": "code",
      "source": [
        "dp = '/content/drive/MyDrive/glaiml/Dataset';\n",
        "dp_train = os.path.join(dp,'Car Images/Train Images')\n",
        "dp_test = os.path.join(dp,'Car Images/Test Images')\n",
        "os.chdir(dp)"
      ],
      "metadata": {
        "id": "fj-UEVE-63Yy"
      },
      "execution_count": null,
      "outputs": []
    },
    {
      "cell_type": "code",
      "source": [
        "%ls"
      ],
      "metadata": {
        "colab": {
          "base_uri": "https://localhost:8080/"
        },
        "id": "ITvr5MgkZ85p",
        "outputId": "f851fd66-98c5-4b22-964c-8efaa07625d9"
      },
      "execution_count": null,
      "outputs": [
        {
          "output_type": "stream",
          "name": "stdout",
          "text": [
            " \u001b[0m\u001b[01;34mAnnotations\u001b[0m/  \u001b[01;34m'Car Images'\u001b[0m/  'Car names and make.csv'   \u001b[01;34m__MACOSX\u001b[0m/\n"
          ]
        }
      ]
    },
    {
      "cell_type": "code",
      "source": [
        "out_dp = '/content/drive/MyDrive/glaiml/car_data_yolo'"
      ],
      "metadata": {
        "id": "7Q_ZqnO2pH7n"
      },
      "execution_count": null,
      "outputs": []
    },
    {
      "cell_type": "code",
      "source": [
        "# Required only on the first run!\n",
        "# Creating the directory sturcture in local VMs as per YOLO structure. \n",
        "os.chdir(out_dp)\n",
        "%mkdir -p train/images test/images val/images train/labels test/labels val/labels"
      ],
      "metadata": {
        "id": "nzkS-b22rjLt"
      },
      "execution_count": null,
      "outputs": []
    },
    {
      "cell_type": "markdown",
      "source": [
        "## DataFrame - reading from CSVs."
      ],
      "metadata": {
        "id": "DcPFAtYzJlpi"
      }
    },
    {
      "cell_type": "code",
      "source": [
        "car_img_path = os.path.join(dp,'Car Images')\n",
        "car_ann_path = os.path.join(dp,'Annotations')\n",
        "df_train = pd.read_csv(os.path.join(car_ann_path,'Train Annotations.csv'),names=['Image_Name','Start_x','Start_y','End_x','End_y','Image_class'])\n",
        "df_test = pd.read_csv(os.path.join(car_ann_path,'Test Annotation.csv'),names=['Image_Name','Start_x','Start_y','End_x','End_y','Image_class'])\n",
        "df_cars_name = pd.read_csv(os.path.join(dp,'Car names and make.csv'),names=['Car Name'])\n",
        "df_train.drop([df_train.index[0]],inplace=True)\n",
        "df_test.drop([df_test.index[0]],inplace=True)"
      ],
      "metadata": {
        "id": "QvLlhiwPGspU"
      },
      "execution_count": null,
      "outputs": []
    },
    {
      "cell_type": "code",
      "source": [
        "#df_cars_name[\"Car Name\"].values.tolist()\n",
        "df_cars_name.size"
      ],
      "metadata": {
        "colab": {
          "base_uri": "https://localhost:8080/"
        },
        "id": "waaPm0BjGVMZ",
        "outputId": "0c27cd45-d250-477a-f701-2b0b48985ccb"
      },
      "execution_count": null,
      "outputs": [
        {
          "output_type": "execute_result",
          "data": {
            "text/plain": [
              "196"
            ]
          },
          "metadata": {},
          "execution_count": 6
        }
      ]
    },
    {
      "cell_type": "markdown",
      "source": [
        "## Data PreProcessing\n",
        "\n",
        "  1. Moving the images to the test directory\n",
        "  1. Moving all the images to the train directory\n",
        "  1. Creating a txt file corresponding to all the images\n",
        "  1. Converting the images to the YOLO specific format."
      ],
      "metadata": {
        "id": "MF27yAq5LFFn"
      }
    },
    {
      "cell_type": "code",
      "source": [
        "dp_test"
      ],
      "metadata": {
        "colab": {
          "base_uri": "https://localhost:8080/",
          "height": 35
        },
        "id": "gaWQMpgsUhh2",
        "outputId": "5c6eafe7-9602-4739-a3aa-138dc4eb6c1a"
      },
      "execution_count": null,
      "outputs": [
        {
          "output_type": "execute_result",
          "data": {
            "application/vnd.google.colaboratory.intrinsic+json": {
              "type": "string"
            },
            "text/plain": [
              "'/content/drive/MyDrive/glaiml/Dataset/Car Images/Test Images'"
            ]
          },
          "metadata": {},
          "execution_count": 43
        }
      ]
    },
    {
      "cell_type": "code",
      "source": [
        "#Moving the Test Images and Train Images to the the VM's folder. Will take quite a bit of time. \n",
        "\n",
        "for root, dirs, files in os.walk(dp_train):\n",
        "  for file in files:\n",
        "    path_file = os.path.join(root,file)\n",
        "    shutil.copy2(path_file,out_dp + '/train/images')\n",
        "\n",
        "for root, dirs, files in os.walk(dp_test):\n",
        "  for file in files:\n",
        "    path_file = os.path.join(root,file)\n",
        "    shutil.copy2(path_file,out_dp + '/test/images')"
      ],
      "metadata": {
        "id": "ezVFDGr3qZ3m"
      },
      "execution_count": null,
      "outputs": []
    },
    {
      "cell_type": "code",
      "source": [
        "# YOLO requires the normalized height and width format.\n",
        "def YOLO_xywh(xmin, ymin, xmax, ymax, imgw,imgh):\n",
        "  xmin = float(xmin)\n",
        "  ymin = float(ymin)\n",
        "  xmax = float(xmax)\n",
        "  ymax = float(ymax)\n",
        "  imgw = float(imgw)\n",
        "  imgh = float(imgh)\n",
        "  # print (float(xmin), float(ymin), float(xmax), float(ymax), float(imgw),float(imgh))\n",
        "  xcen = float((xmin + xmax)) / 2 / imgw\n",
        "  ycen = float((ymin + ymax)) / 2 / imgh\n",
        "  w = float((xmax - xmin)) / imgw\n",
        "  h = float((ymax - ymin)) / imgh\n",
        "  return xcen, ycen, w, h\n",
        "\n",
        "#Reference https://github.com/tzutalin/labelImg/blob/master/libs/yolo_io.py\n"
      ],
      "metadata": {
        "id": "ZfS4SGKpLVnR"
      },
      "execution_count": null,
      "outputs": []
    },
    {
      "cell_type": "code",
      "source": [
        "df_train['Image_Path'] = df_train['Image_Name'].apply(lambda x:os.path.join(out_dp + '/train/images',x))\n",
        "df_test['Image_Path'] = df_test['Image_Name'].apply(lambda x:os.path.join(out_dp + '/test/images',x))\n"
      ],
      "metadata": {
        "id": "P_0cE6Sy6yf_"
      },
      "execution_count": null,
      "outputs": []
    },
    {
      "cell_type": "code",
      "source": [
        "df_train['Label_Path'] = df_train['Image_Name'].apply(lambda x:os.path.join(out_dp + '/train/labels',x.replace(\"jpg\", \"txt\")))\n",
        "df_test['Label_Path'] = df_test['Image_Name'].apply(lambda x:os.path.join(out_dp + '/test/labels',x.replace(\"jpg\", \"txt\")))"
      ],
      "metadata": {
        "id": "kS1e2grlITNs"
      },
      "execution_count": null,
      "outputs": []
    },
    {
      "cell_type": "markdown",
      "source": [
        "The logic for regenerating the labelfiles: \n",
        "1. Iterate the df and run the image path exists loop, and then populate df with appropriate image paths and label paths\n",
        "2. Then run the get image dimension for training\n",
        "3. Run the iterrows for training."
      ],
      "metadata": {
        "id": "nE-qwEggvw_p"
      }
    },
    {
      "cell_type": "code",
      "source": [
        "#df_test_merge"
      ],
      "metadata": {
        "colab": {
          "base_uri": "https://localhost:8080/",
          "height": 424
        },
        "id": "Y1UHoUPPyLfA",
        "outputId": "ffb5471c-3d5f-4b60-848e-2d781355c5cc"
      },
      "execution_count": null,
      "outputs": [
        {
          "output_type": "execute_result",
          "data": {
            "text/html": [
              "\n",
              "  <div id=\"df-fedf4c00-ec9b-42ef-81cc-02b1cafd134b\">\n",
              "    <div class=\"colab-df-container\">\n",
              "      <div>\n",
              "<style scoped>\n",
              "    .dataframe tbody tr th:only-of-type {\n",
              "        vertical-align: middle;\n",
              "    }\n",
              "\n",
              "    .dataframe tbody tr th {\n",
              "        vertical-align: top;\n",
              "    }\n",
              "\n",
              "    .dataframe thead th {\n",
              "        text-align: right;\n",
              "    }\n",
              "</style>\n",
              "<table border=\"1\" class=\"dataframe\">\n",
              "  <thead>\n",
              "    <tr style=\"text-align: right;\">\n",
              "      <th></th>\n",
              "      <th>Image_Name</th>\n",
              "      <th>Start_x</th>\n",
              "      <th>Start_y</th>\n",
              "      <th>End_x</th>\n",
              "      <th>End_y</th>\n",
              "      <th>Image_class</th>\n",
              "      <th>Image_Path</th>\n",
              "      <th>Label_Path</th>\n",
              "      <th>source_image_path</th>\n",
              "      <th>image_name</th>\n",
              "      <th>Orig_img_height</th>\n",
              "      <th>Orig_img_width</th>\n",
              "    </tr>\n",
              "  </thead>\n",
              "  <tbody>\n",
              "    <tr>\n",
              "      <th>0</th>\n",
              "      <td>00001.jpg</td>\n",
              "      <td>30</td>\n",
              "      <td>52.0</td>\n",
              "      <td>246.0</td>\n",
              "      <td>147.0</td>\n",
              "      <td>181</td>\n",
              "      <td>/content/drive/MyDrive/glaiml/car_data_yolo/te...</td>\n",
              "      <td>/content/drive/MyDrive/glaiml/car_data_yolo/te...</td>\n",
              "      <td>/content/drive/MyDrive/glaiml/Dataset/Car Imag...</td>\n",
              "      <td>00001.jpg</td>\n",
              "      <td>182</td>\n",
              "      <td>276</td>\n",
              "    </tr>\n",
              "    <tr>\n",
              "      <th>1</th>\n",
              "      <td>00002.jpg</td>\n",
              "      <td>100</td>\n",
              "      <td>19.0</td>\n",
              "      <td>576.0</td>\n",
              "      <td>203.0</td>\n",
              "      <td>103</td>\n",
              "      <td>/content/drive/MyDrive/glaiml/car_data_yolo/te...</td>\n",
              "      <td>/content/drive/MyDrive/glaiml/car_data_yolo/te...</td>\n",
              "      <td>/content/drive/MyDrive/glaiml/Dataset/Car Imag...</td>\n",
              "      <td>00002.jpg</td>\n",
              "      <td>360</td>\n",
              "      <td>640</td>\n",
              "    </tr>\n",
              "    <tr>\n",
              "      <th>2</th>\n",
              "      <td>00003.jpg</td>\n",
              "      <td>51</td>\n",
              "      <td>105.0</td>\n",
              "      <td>968.0</td>\n",
              "      <td>659.0</td>\n",
              "      <td>145</td>\n",
              "      <td>/content/drive/MyDrive/glaiml/car_data_yolo/te...</td>\n",
              "      <td>/content/drive/MyDrive/glaiml/car_data_yolo/te...</td>\n",
              "      <td>/content/drive/MyDrive/glaiml/Dataset/Car Imag...</td>\n",
              "      <td>00003.jpg</td>\n",
              "      <td>741</td>\n",
              "      <td>1024</td>\n",
              "    </tr>\n",
              "    <tr>\n",
              "      <th>3</th>\n",
              "      <td>00004.jpg</td>\n",
              "      <td>67</td>\n",
              "      <td>84.0</td>\n",
              "      <td>581.0</td>\n",
              "      <td>407.0</td>\n",
              "      <td>187</td>\n",
              "      <td>/content/drive/MyDrive/glaiml/car_data_yolo/te...</td>\n",
              "      <td>/content/drive/MyDrive/glaiml/car_data_yolo/te...</td>\n",
              "      <td>/content/drive/MyDrive/glaiml/Dataset/Car Imag...</td>\n",
              "      <td>00004.jpg</td>\n",
              "      <td>480</td>\n",
              "      <td>640</td>\n",
              "    </tr>\n",
              "    <tr>\n",
              "      <th>4</th>\n",
              "      <td>00005.jpg</td>\n",
              "      <td>140</td>\n",
              "      <td>151.0</td>\n",
              "      <td>593.0</td>\n",
              "      <td>339.0</td>\n",
              "      <td>185</td>\n",
              "      <td>/content/drive/MyDrive/glaiml/car_data_yolo/te...</td>\n",
              "      <td>/content/drive/MyDrive/glaiml/car_data_yolo/te...</td>\n",
              "      <td>/content/drive/MyDrive/glaiml/Dataset/Car Imag...</td>\n",
              "      <td>00005.jpg</td>\n",
              "      <td>373</td>\n",
              "      <td>600</td>\n",
              "    </tr>\n",
              "    <tr>\n",
              "      <th>...</th>\n",
              "      <td>...</td>\n",
              "      <td>...</td>\n",
              "      <td>...</td>\n",
              "      <td>...</td>\n",
              "      <td>...</td>\n",
              "      <td>...</td>\n",
              "      <td>...</td>\n",
              "      <td>...</td>\n",
              "      <td>...</td>\n",
              "      <td>...</td>\n",
              "      <td>...</td>\n",
              "      <td>...</td>\n",
              "    </tr>\n",
              "    <tr>\n",
              "      <th>8036</th>\n",
              "      <td>08037.jpg</td>\n",
              "      <td>49</td>\n",
              "      <td>57.0</td>\n",
              "      <td>1169.0</td>\n",
              "      <td>669.0</td>\n",
              "      <td>63</td>\n",
              "      <td>/content/drive/MyDrive/glaiml/car_data_yolo/te...</td>\n",
              "      <td>/content/drive/MyDrive/glaiml/car_data_yolo/te...</td>\n",
              "      <td>/content/drive/MyDrive/glaiml/Dataset/Car Imag...</td>\n",
              "      <td>08037.jpg</td>\n",
              "      <td>800</td>\n",
              "      <td>1200</td>\n",
              "    </tr>\n",
              "    <tr>\n",
              "      <th>8037</th>\n",
              "      <td>08038.jpg</td>\n",
              "      <td>23</td>\n",
              "      <td>18.0</td>\n",
              "      <td>640.0</td>\n",
              "      <td>459.0</td>\n",
              "      <td>16</td>\n",
              "      <td>/content/drive/MyDrive/glaiml/car_data_yolo/te...</td>\n",
              "      <td>/content/drive/MyDrive/glaiml/car_data_yolo/te...</td>\n",
              "      <td>/content/drive/MyDrive/glaiml/Dataset/Car Imag...</td>\n",
              "      <td>08038.jpg</td>\n",
              "      <td>480</td>\n",
              "      <td>640</td>\n",
              "    </tr>\n",
              "    <tr>\n",
              "      <th>8038</th>\n",
              "      <td>08039.jpg</td>\n",
              "      <td>33</td>\n",
              "      <td>27.0</td>\n",
              "      <td>602.0</td>\n",
              "      <td>252.0</td>\n",
              "      <td>17</td>\n",
              "      <td>/content/drive/MyDrive/glaiml/car_data_yolo/te...</td>\n",
              "      <td>/content/drive/MyDrive/glaiml/car_data_yolo/te...</td>\n",
              "      <td>/content/drive/MyDrive/glaiml/Dataset/Car Imag...</td>\n",
              "      <td>08039.jpg</td>\n",
              "      <td>303</td>\n",
              "      <td>635</td>\n",
              "    </tr>\n",
              "    <tr>\n",
              "      <th>8039</th>\n",
              "      <td>08040.jpg</td>\n",
              "      <td>33</td>\n",
              "      <td>142.0</td>\n",
              "      <td>521.0</td>\n",
              "      <td>376.0</td>\n",
              "      <td>38</td>\n",
              "      <td>/content/drive/MyDrive/glaiml/car_data_yolo/te...</td>\n",
              "      <td>/content/drive/MyDrive/glaiml/car_data_yolo/te...</td>\n",
              "      <td>/content/drive/MyDrive/glaiml/Dataset/Car Imag...</td>\n",
              "      <td>08040.jpg</td>\n",
              "      <td>427</td>\n",
              "      <td>640</td>\n",
              "    </tr>\n",
              "    <tr>\n",
              "      <th>8040</th>\n",
              "      <td>08041.jpg</td>\n",
              "      <td>77</td>\n",
              "      <td>73.0</td>\n",
              "      <td>506.0</td>\n",
              "      <td>380.0</td>\n",
              "      <td>32</td>\n",
              "      <td>/content/drive/MyDrive/glaiml/car_data_yolo/te...</td>\n",
              "      <td>/content/drive/MyDrive/glaiml/car_data_yolo/te...</td>\n",
              "      <td>/content/drive/MyDrive/glaiml/Dataset/Car Imag...</td>\n",
              "      <td>08041.jpg</td>\n",
              "      <td>426</td>\n",
              "      <td>640</td>\n",
              "    </tr>\n",
              "  </tbody>\n",
              "</table>\n",
              "<p>8041 rows × 12 columns</p>\n",
              "</div>\n",
              "      <button class=\"colab-df-convert\" onclick=\"convertToInteractive('df-fedf4c00-ec9b-42ef-81cc-02b1cafd134b')\"\n",
              "              title=\"Convert this dataframe to an interactive table.\"\n",
              "              style=\"display:none;\">\n",
              "        \n",
              "  <svg xmlns=\"http://www.w3.org/2000/svg\" height=\"24px\"viewBox=\"0 0 24 24\"\n",
              "       width=\"24px\">\n",
              "    <path d=\"M0 0h24v24H0V0z\" fill=\"none\"/>\n",
              "    <path d=\"M18.56 5.44l.94 2.06.94-2.06 2.06-.94-2.06-.94-.94-2.06-.94 2.06-2.06.94zm-11 1L8.5 8.5l.94-2.06 2.06-.94-2.06-.94L8.5 2.5l-.94 2.06-2.06.94zm10 10l.94 2.06.94-2.06 2.06-.94-2.06-.94-.94-2.06-.94 2.06-2.06.94z\"/><path d=\"M17.41 7.96l-1.37-1.37c-.4-.4-.92-.59-1.43-.59-.52 0-1.04.2-1.43.59L10.3 9.45l-7.72 7.72c-.78.78-.78 2.05 0 2.83L4 21.41c.39.39.9.59 1.41.59.51 0 1.02-.2 1.41-.59l7.78-7.78 2.81-2.81c.8-.78.8-2.07 0-2.86zM5.41 20L4 18.59l7.72-7.72 1.47 1.35L5.41 20z\"/>\n",
              "  </svg>\n",
              "      </button>\n",
              "      \n",
              "  <style>\n",
              "    .colab-df-container {\n",
              "      display:flex;\n",
              "      flex-wrap:wrap;\n",
              "      gap: 12px;\n",
              "    }\n",
              "\n",
              "    .colab-df-convert {\n",
              "      background-color: #E8F0FE;\n",
              "      border: none;\n",
              "      border-radius: 50%;\n",
              "      cursor: pointer;\n",
              "      display: none;\n",
              "      fill: #1967D2;\n",
              "      height: 32px;\n",
              "      padding: 0 0 0 0;\n",
              "      width: 32px;\n",
              "    }\n",
              "\n",
              "    .colab-df-convert:hover {\n",
              "      background-color: #E2EBFA;\n",
              "      box-shadow: 0px 1px 2px rgba(60, 64, 67, 0.3), 0px 1px 3px 1px rgba(60, 64, 67, 0.15);\n",
              "      fill: #174EA6;\n",
              "    }\n",
              "\n",
              "    [theme=dark] .colab-df-convert {\n",
              "      background-color: #3B4455;\n",
              "      fill: #D2E3FC;\n",
              "    }\n",
              "\n",
              "    [theme=dark] .colab-df-convert:hover {\n",
              "      background-color: #434B5C;\n",
              "      box-shadow: 0px 1px 3px 1px rgba(0, 0, 0, 0.15);\n",
              "      filter: drop-shadow(0px 1px 2px rgba(0, 0, 0, 0.3));\n",
              "      fill: #FFFFFF;\n",
              "    }\n",
              "  </style>\n",
              "\n",
              "      <script>\n",
              "        const buttonEl =\n",
              "          document.querySelector('#df-fedf4c00-ec9b-42ef-81cc-02b1cafd134b button.colab-df-convert');\n",
              "        buttonEl.style.display =\n",
              "          google.colab.kernel.accessAllowed ? 'block' : 'none';\n",
              "\n",
              "        async function convertToInteractive(key) {\n",
              "          const element = document.querySelector('#df-fedf4c00-ec9b-42ef-81cc-02b1cafd134b');\n",
              "          const dataTable =\n",
              "            await google.colab.kernel.invokeFunction('convertToInteractive',\n",
              "                                                     [key], {});\n",
              "          if (!dataTable) return;\n",
              "\n",
              "          const docLinkHtml = 'Like what you see? Visit the ' +\n",
              "            '<a target=\"_blank\" href=https://colab.research.google.com/notebooks/data_table.ipynb>data table notebook</a>'\n",
              "            + ' to learn more about interactive tables.';\n",
              "          element.innerHTML = '';\n",
              "          dataTable['output_type'] = 'display_data';\n",
              "          await google.colab.output.renderOutput(dataTable, element);\n",
              "          const docLink = document.createElement('div');\n",
              "          docLink.innerHTML = docLinkHtml;\n",
              "          element.appendChild(docLink);\n",
              "        }\n",
              "      </script>\n",
              "    </div>\n",
              "  </div>\n",
              "  "
            ],
            "text/plain": [
              "     Image_Name Start_x  Start_y  ...  image_name  Orig_img_height Orig_img_width\n",
              "0     00001.jpg      30     52.0  ...   00001.jpg              182            276\n",
              "1     00002.jpg     100     19.0  ...   00002.jpg              360            640\n",
              "2     00003.jpg      51    105.0  ...   00003.jpg              741           1024\n",
              "3     00004.jpg      67     84.0  ...   00004.jpg              480            640\n",
              "4     00005.jpg     140    151.0  ...   00005.jpg              373            600\n",
              "...         ...     ...      ...  ...         ...              ...            ...\n",
              "8036  08037.jpg      49     57.0  ...   08037.jpg              800           1200\n",
              "8037  08038.jpg      23     18.0  ...   08038.jpg              480            640\n",
              "8038  08039.jpg      33     27.0  ...   08039.jpg              303            635\n",
              "8039  08040.jpg      33    142.0  ...   08040.jpg              427            640\n",
              "8040  08041.jpg      77     73.0  ...   08041.jpg              426            640\n",
              "\n",
              "[8041 rows x 12 columns]"
            ]
          },
          "metadata": {},
          "execution_count": 70
        }
      ]
    },
    {
      "cell_type": "code",
      "source": [
        "# df_test_merge[['Orig_img_height']]= df_test_merge.apply(lambda _: 0, axis=1)\n",
        "# df_test_merge[['Orig_img_width']]= df_test_merge.apply(lambda _: 0, axis=1)"
      ],
      "metadata": {
        "id": "7VRNCwlkE95b"
      },
      "execution_count": null,
      "outputs": []
    },
    {
      "cell_type": "code",
      "source": [
        "# +++++++\n",
        "# DO NOT RUN THIS\n",
        "# +++++\n",
        "\"\"\"\n",
        "for index, row in df_train.iterrows():\n",
        "  if not os.path.exists(row['Image_Path']):\n",
        "    edit_row = df_train.iloc[[index]]\n",
        "    df_train.at[index, 'Label_Path'] = row['Label_Path'].replace('train','val')\n",
        "    df_train.at[index, 'Image_Path'] = row['Image_Path'].replace('train','val')\n",
        "\"\"\""
      ],
      "metadata": {
        "id": "mOuBKpaswTI-"
      },
      "execution_count": null,
      "outputs": []
    },
    {
      "cell_type": "code",
      "source": [
        "# +++++++\n",
        "# DO NOT RUN THIS\n",
        "# +++++\n",
        "\n",
        "\"\"\"\n",
        "# Tester Utility Function\n",
        "counter = 0\n",
        "for index, row in df_train.iterrows():\n",
        "  # if not os.path.exists(row['Image_Path']):\n",
        "  if not row['Orig_img_width']:\n",
        "    counter= counter+1\n",
        "print (counter)\n",
        "\"\"\""
      ],
      "metadata": {
        "colab": {
          "base_uri": "https://localhost:8080/"
        },
        "id": "vmZbpG8Yx6RP",
        "outputId": "42b0937e-8e95-4ce2-d2e3-069be13bed16"
      },
      "execution_count": null,
      "outputs": [
        {
          "output_type": "stream",
          "name": "stdout",
          "text": [
            "0\n"
          ]
        }
      ]
    },
    {
      "cell_type": "markdown",
      "source": [
        "#### Testing \n",
        "1. The idea is to create a new dataframe with ImageName and the path by going through the pat "
      ],
      "metadata": {
        "id": "gQY1-QrShwLZ"
      }
    },
    {
      "cell_type": "code",
      "source": [
        "df_test_temp = pd.DataFrame({'source_image_path':[],'image_name':[]})"
      ],
      "metadata": {
        "id": "bUeH8c8LiTcP"
      },
      "execution_count": null,
      "outputs": []
    },
    {
      "cell_type": "code",
      "source": [
        "df_test_merge.columns"
      ],
      "metadata": {
        "colab": {
          "base_uri": "https://localhost:8080/"
        },
        "id": "HxUHLvPuinA6",
        "outputId": "4df1a77d-32cf-48a6-a6f4-f8e201605157"
      },
      "execution_count": null,
      "outputs": [
        {
          "output_type": "execute_result",
          "data": {
            "text/plain": [
              "Index(['Image_Name', 'Start_x', 'Start_y', 'End_x', 'End_y', 'Image_class',\n",
              "       'Image_Path', 'Label_Path', 'source_image_path', 'image_name'],\n",
              "      dtype='object')"
            ]
          },
          "metadata": {},
          "execution_count": 58
        }
      ]
    },
    {
      "cell_type": "code",
      "source": [
        "df_test_merge = pd.merge(left=df_test, right=df_test_temp, left_on='Image_Name', right_on='image_name')"
      ],
      "metadata": {
        "id": "vPICngfspWsp"
      },
      "execution_count": null,
      "outputs": []
    },
    {
      "cell_type": "code",
      "source": [
        "for root, dirs, files in os.walk(dp_test):\n",
        "  for file in files:\n",
        "    path_file = os.path.join(root,file)\n",
        "    df_test_temp.loc[len(df_test_temp.index)] = [path_file,file]"
      ],
      "metadata": {
        "id": "2CK04CZyhjAp"
      },
      "execution_count": null,
      "outputs": []
    },
    {
      "cell_type": "markdown",
      "source": [
        ""
      ],
      "metadata": {
        "id": "cU_TmBmZujwp"
      }
    },
    {
      "cell_type": "code",
      "source": [
        "df_train.to_csv('/content/drive/MyDrive/glaiml/car_data_yolo/df_train.csv')"
      ],
      "metadata": {
        "id": "o_dJLR_k9AVX"
      },
      "execution_count": null,
      "outputs": []
    },
    {
      "cell_type": "code",
      "source": [
        "df_test_merge.to_csv('/content/drive/MyDrive/glaiml/car_data_yolo/df_test.csv')"
      ],
      "metadata": {
        "id": "zEzTcLMrhEGF"
      },
      "execution_count": null,
      "outputs": []
    },
    {
      "cell_type": "code",
      "source": [
        "df_test = df_test_merge"
      ],
      "metadata": {
        "id": "oDngN5L-hNdz"
      },
      "execution_count": null,
      "outputs": []
    },
    {
      "cell_type": "code",
      "source": [
        "for index, row in df_test_merge.iterrows():\n",
        "  img = cv.imread(row['Image_Path'])\n",
        "  if img is None:\n",
        "    shutil.copy2(row['source_image_path'],'/content/drive/MyDrive/glaiml/car_data_yolo/test/images/')\n",
        "    img = cv.imread(row['Image_Path'])\n",
        "  df_test_merge.at[index, 'Orig_img_height'] = int(img.shape[0])\n",
        "  df_test_merge.at[index, 'Orig_img_width'] = int(img.shape[1])\n"
      ],
      "metadata": {
        "id": "unsgkUM4ovjt"
      },
      "execution_count": null,
      "outputs": []
    },
    {
      "cell_type": "markdown",
      "source": [
        "#### Others"
      ],
      "metadata": {
        "id": "oJKX8cdDlg1W"
      }
    },
    {
      "cell_type": "code",
      "source": [
        "#Populating dataset with the original image height and width: \n",
        "def get_image_dims(df,col):\n",
        "  height = []\n",
        "  width = []\n",
        "  for img_path in df[col].values:\n",
        "    img = cv.imread(img_path)\n",
        "    if img is not None:\n",
        "      height.append(int(img.shape[0]))\n",
        "      width.append(int(img.shape[1]))\n",
        "\n",
        "  return height,width\n",
        "\n",
        "df_train['Orig_img_height'],df_train['Orig_img_width'] =  get_image_dims(df_train,'Image_Path')\n",
        "df_test['Orig_img_height'],df_test['Orig_img_width'] =  get_image_dims(df_test,'Image_Path')"
      ],
      "metadata": {
        "id": "_2FhuDZX4kQ6"
      },
      "execution_count": null,
      "outputs": []
    },
    {
      "cell_type": "code",
      "source": [
        "#Iterate over the rows\n",
        "for index, row in df_train.iterrows():\n",
        "    x, y, w, h = YOLO_xywh(row['Start_x'],\trow['Start_y'],\trow['End_x'],\trow['End_y'], row['Orig_img_width'], row['Orig_img_height'])\n",
        "    image_class_index = int(row['Image_class']) - 1\n",
        "    with open(row['Label_Path'], \"w\") as text_file:\n",
        "      print(f\"{image_class_index} {x} {y} {w} {h}\", file=text_file)\n",
        "\n",
        "for index, row in df_test.iterrows():\n",
        "    x, y, w, h = YOLO_xywh(row['Start_x'],\trow['Start_y'],\trow['End_x'],\trow['End_y'],row['Orig_img_width'], row['Orig_img_height'])\n",
        "    image_class_index = int(row['Image_class']) - 1\n",
        "    with open(row['Image_Path'], \"w\") as text_file:\n",
        "      print(f\"{image_class_index} {x} {y} {w} {h}\", file=text_file)"
      ],
      "metadata": {
        "id": "jGORLRYoLqiP"
      },
      "execution_count": null,
      "outputs": []
    },
    {
      "cell_type": "code",
      "source": [
        "\n",
        "#This is to regenerate the items with all the code.\n",
        "\n",
        "\n",
        "#Modifying the above code with an error check!\n",
        "for index, row in df_train.iterrows():\n",
        "    x, y, w, h = YOLO_xywh(row['Start_x'],\trow['Start_y'],\trow['End_x'],\trow['End_y'], row['Orig_img_width'], row['Orig_img_height'])\n",
        "    with open(row['Label_Path'], \"w\") as text_file:\n",
        "      print(f\"{row['Image_class']} {x} {y} {w} {h}\", file=text_file)\n",
        "\n",
        "for index, row in df_test.iterrows():\n",
        "    x, y, w, h = YOLO_xywh(row['Start_x'],\trow['Start_y'],\trow['End_x'],\trow['End_y'],row['Orig_img_width'], row['Orig_img_height'])\n",
        "    with open(row['Image_Path'], \"w\") as text_file:\n",
        "      print(f\"{row['Image_class']} {x} {y} {w} {h}\", file=text_file)"
      ],
      "metadata": {
        "id": "7UPm2wEuchAA"
      },
      "execution_count": null,
      "outputs": []
    },
    {
      "cell_type": "markdown",
      "source": [
        "## 1.3 Splitting the folders\n",
        "1. Create a test directory\n",
        "2. Split the train images into two validation \n",
        "3. Create its own directory and copy it \n",
        "4. Copy the label files as well.\n",
        "\n"
      ],
      "metadata": {
        "id": "FsIOgIvPWNY7"
      }
    },
    {
      "cell_type": "code",
      "source": [
        "#mkdir -p train/images train/labels val/images val/labels\n",
        "%pwd"
      ],
      "metadata": {
        "colab": {
          "base_uri": "https://localhost:8080/",
          "height": 35
        },
        "id": "-YISsQ0DbYAI",
        "outputId": "072aebce-3949-41ce-9f84-c0c363b5045e"
      },
      "execution_count": null,
      "outputs": [
        {
          "output_type": "execute_result",
          "data": {
            "application/vnd.google.colaboratory.intrinsic+json": {
              "type": "string"
            },
            "text/plain": [
              "'/content/ftest'"
            ]
          },
          "metadata": {},
          "execution_count": 13
        }
      ]
    },
    {
      "cell_type": "code",
      "source": [
        "#populate our experimental folder\n",
        "list_int = np.arange(1,20,1).tolist()\n",
        "list_str = map(str,list_int)\n",
        "for i in list_str:\n",
        "  os.mknod(os.path.join('train/images/',i+'.jpg'))\n",
        "  os.mknod(os.path.join('train/labels/',i+'.txt'))\n"
      ],
      "metadata": {
        "id": "U-beaevMWMoj"
      },
      "execution_count": null,
      "outputs": []
    },
    {
      "cell_type": "code",
      "source": [
        "ls /content/drive/MyDrive/glaiml/car_data_yolo/train/images | wc -l"
      ],
      "metadata": {
        "colab": {
          "base_uri": "https://localhost:8080/"
        },
        "id": "fILK2jW_uK43",
        "outputId": "3b616440-0dd3-4987-f5ef-318b735f49d2"
      },
      "execution_count": null,
      "outputs": [
        {
          "output_type": "stream",
          "name": "stdout",
          "text": [
            "6581\n"
          ]
        }
      ]
    },
    {
      "cell_type": "code",
      "source": [
        "#Implementing the splitting folder logic\n",
        "#https://www.kaggle.com/questions-and-answers/102677 \n",
        "\n",
        "source_train = out_dp + '/train/images/'\n",
        "dest_val = out_dp + '/val/images'\n",
        "allFileNames = os.listdir(source_train)\n",
        "np.random.shuffle(allFileNames)\n",
        "test_ratio = .2\n",
        "train_FileNames, val_FileNames = np.split(np.array(allFileNames),[int(len(allFileNames)* (1 - test_ratio))])\n",
        "# print (train_FileNames)\n",
        "# print (val_FileNames)\n",
        "\n",
        "for name in val_FileNames:\n",
        "  # Preparing to move the corresponding label files as well.\n",
        "  label_FileName = name.replace('jpg','txt')\n",
        "  label_PathName = source_train.replace('images','labels')+label_FileName\n",
        "\n",
        "  shutil.move(source_train+name,dest_val)\n",
        "  shutil.move(label_PathName,dest_val.replace('images','labels'))\n",
        "\n"
      ],
      "metadata": {
        "id": "M_bA2EMpckot"
      },
      "execution_count": null,
      "outputs": []
    },
    {
      "cell_type": "code",
      "source": [
        "ls train/labels"
      ],
      "metadata": {
        "colab": {
          "base_uri": "https://localhost:8080/"
        },
        "id": "96Pn8vSNo2Ft",
        "outputId": "43bdbab9-b01c-4207-c6ab-69ad0b771350"
      },
      "execution_count": null,
      "outputs": [
        {
          "output_type": "stream",
          "name": "stdout",
          "text": [
            "10.txt  14.txt  16.txt  18.txt  1.txt  3.txt  5.txt  9.txt\n",
            "12.txt  15.txt  17.txt  19.txt  2.txt  4.txt  6.txt\n"
          ]
        }
      ]
    },
    {
      "cell_type": "markdown",
      "source": [
        "# 2.0 Installing YOLOV5 \n",
        "\n",
        "1. Download YOLOV5 from github. \n",
        "2. Install the requirements document\n",
        "3. Configure the requirement yaml."
      ],
      "metadata": {
        "id": "J-3wENsqMDuG"
      }
    },
    {
      "cell_type": "code",
      "source": [
        "%%capture\n",
        "%cd /content/\n",
        "!git clone https://github.com/ultralytics/yolov5.git\n",
        "%cd /content/yolov5\n",
        "!pip install -r requirements.txt"
      ],
      "metadata": {
        "id": "M3X_es9G73rb"
      },
      "execution_count": null,
      "outputs": []
    },
    {
      "cell_type": "code",
      "source": [
        "%cd data/"
      ],
      "metadata": {
        "colab": {
          "base_uri": "https://localhost:8080/"
        },
        "id": "WWn0NNEsS_9K",
        "outputId": "92c566e5-dd43-4c51-8f8a-040d2b45691f"
      },
      "execution_count": null,
      "outputs": [
        {
          "output_type": "stream",
          "name": "stdout",
          "text": [
            "/content/yolov5/data\n"
          ]
        }
      ]
    },
    {
      "cell_type": "code",
      "source": [
        "!touch carData.yaml"
      ],
      "metadata": {
        "id": "1bUs07lUQDOV"
      },
      "execution_count": null,
      "outputs": []
    },
    {
      "cell_type": "code",
      "source": [
        "%%writefile carData.yaml\n",
        "\n",
        "train: /content/drive/MyDrive/glaiml/car_data_yolo/train/images\n",
        "val: /content/drive/MyDrive/glaiml/car_data_yolo/val/images\n",
        "test: /content/drive/MyDrive/glaiml/car_data_yolo/test/images\n",
        "\n",
        "# number of classes\n",
        "nc: 196\n",
        "\n",
        "# class names\n",
        "names: ['AM General Hummer SUV 2000', 'Acura RL Sedan 2012', 'Acura TL Sedan 2012', 'Acura TL Type-S 2008', 'Acura TSX Sedan 2012', 'Acura Integra Type R 2001', 'Acura ZDX Hatchback 2012', 'Aston Martin V8 Vantage Convertible 2012', 'Aston Martin V8 Vantage Coupe 2012', 'Aston Martin Virage Convertible 2012', 'Aston Martin Virage Coupe 2012', 'Audi RS 4 Convertible 2008', 'Audi A5 Coupe 2012', 'Audi TTS Coupe 2012', 'Audi R8 Coupe 2012', 'Audi V8 Sedan 1994', 'Audi 100 Sedan 1994', 'Audi 100 Wagon 1994', 'Audi TT Hatchback 2011', 'Audi S6 Sedan 2011', 'Audi S5 Convertible 2012', 'Audi S5 Coupe 2012', 'Audi S4 Sedan 2012', 'Audi S4 Sedan 2007', 'Audi TT RS Coupe 2012', 'BMW ActiveHybrid 5 Sedan 2012', 'BMW 1 Series Convertible 2012', 'BMW 1 Series Coupe 2012', 'BMW 3 Series Sedan 2012', 'BMW 3 Series Wagon 2012', 'BMW 6 Series Convertible 2007', 'BMW X5 SUV 2007', 'BMW X6 SUV 2012', 'BMW M3 Coupe 2012', 'BMW M5 Sedan 2010', 'BMW M6 Convertible 2010', 'BMW X3 SUV 2012', 'BMW Z4 Convertible 2012', 'Bentley Continental Supersports Conv. Convertible 2012', 'Bentley Arnage Sedan 2009', 'Bentley Mulsanne Sedan 2011', 'Bentley Continental GT Coupe 2012', 'Bentley Continental GT Coupe 2007', 'Bentley Continental Flying Spur Sedan 2007', 'Bugatti Veyron 16.4 Convertible 2009', 'Bugatti Veyron 16.4 Coupe 2009', 'Buick Regal GS 2012', 'Buick Rainier SUV 2007', 'Buick Verano Sedan 2012', 'Buick Enclave SUV 2012', 'Cadillac CTS-V Sedan 2012', 'Cadillac SRX SUV 2012', 'Cadillac Escalade EXT Crew Cab 2007', 'Chevrolet Silverado 1500 Hybrid Crew Cab 2012', 'Chevrolet Corvette Convertible 2012', 'Chevrolet Corvette ZR1 2012', 'Chevrolet Corvette Ron Fellows Edition Z06 2007', 'Chevrolet Traverse SUV 2012', 'Chevrolet Camaro Convertible 2012', 'Chevrolet HHR SS 2010', 'Chevrolet Impala Sedan 2007', 'Chevrolet Tahoe Hybrid SUV 2012', 'Chevrolet Sonic Sedan 2012', 'Chevrolet Express Cargo Van 2007', 'Chevrolet Avalanche Crew Cab 2012', 'Chevrolet Cobalt SS 2010', 'Chevrolet Malibu Hybrid Sedan 2010', 'Chevrolet TrailBlazer SS 2009', 'Chevrolet Silverado 2500HD Regular Cab 2012', 'Chevrolet Silverado 1500 Classic Extended Cab 2007', 'Chevrolet Express Van 2007', 'Chevrolet Monte Carlo Coupe 2007', 'Chevrolet Malibu Sedan 2007', 'Chevrolet Silverado 1500 Extended Cab 2012', 'Chevrolet Silverado 1500 Regular Cab 2012', 'Chrysler Aspen SUV 2009', 'Chrysler Sebring Convertible 2010', 'Chrysler Town and Country Minivan 2012', 'Chrysler 300 SRT-8 2010', 'Chrysler Crossfire Convertible 2008', 'Chrysler PT Cruiser Convertible 2008', 'Daewoo Nubira Wagon 2002', 'Dodge Caliber Wagon 2012', 'Dodge Caliber Wagon 2007', 'Dodge Caravan Minivan 1997', 'Dodge Ram Pickup 3500 Crew Cab 2010', 'Dodge Ram Pickup 3500 Quad Cab 2009', 'Dodge Sprinter Cargo Van 2009', 'Dodge Journey SUV 2012', 'Dodge Dakota Crew Cab 2010', 'Dodge Dakota Club Cab 2007', 'Dodge Magnum Wagon 2008', 'Dodge Challenger SRT8 2011', 'Dodge Durango SUV 2012', 'Dodge Durango SUV 2007', 'Dodge Charger Sedan 2012', 'Dodge Charger SRT-8 2009', 'Eagle Talon Hatchback 1998', 'FIAT 500 Abarth 2012', 'FIAT 500 Convertible 2012', 'Ferrari FF Coupe 2012', 'Ferrari California Convertible 2012', 'Ferrari 458 Italia Convertible 2012', 'Ferrari 458 Italia Coupe 2012', 'Fisker Karma Sedan 2012', 'Ford F-450 Super Duty Crew Cab 2012', 'Ford Mustang Convertible 2007', 'Ford Freestar Minivan 2007', 'Ford Expedition EL SUV 2009', 'Ford Edge SUV 2012', 'Ford Ranger SuperCab 2011', 'Ford GT Coupe 2006', 'Ford F-150 Regular Cab 2012', 'Ford F-150 Regular Cab 2007', 'Ford Focus Sedan 2007', 'Ford E-Series Wagon Van 2012', 'Ford Fiesta Sedan 2012', 'GMC Terrain SUV 2012', 'GMC Savana Van 2012', 'GMC Yukon Hybrid SUV 2012', 'GMC Acadia SUV 2012', 'GMC Canyon Extended Cab 2012', 'Geo Metro Convertible 1993', 'HUMMER H3T Crew Cab 2010', 'HUMMER H2 SUT Crew Cab 2009', 'Honda Odyssey Minivan 2012', 'Honda Odyssey Minivan 2007', 'Honda Accord Coupe 2012', 'Honda Accord Sedan 2012', 'Hyundai Veloster Hatchback 2012', 'Hyundai Santa Fe SUV 2012', 'Hyundai Tucson SUV 2012', 'Hyundai Veracruz SUV 2012', 'Hyundai Sonata Hybrid Sedan 2012', 'Hyundai Elantra Sedan 2007', 'Hyundai Accent Sedan 2012', 'Hyundai Genesis Sedan 2012', 'Hyundai Sonata Sedan 2012', 'Hyundai Elantra Touring Hatchback 2012', 'Hyundai Azera Sedan 2012', 'Infiniti G Coupe IPL 2012', 'Infiniti QX56 SUV 2011', 'Isuzu Ascender SUV 2008', 'Jaguar XK XKR 2012', 'Jeep Patriot SUV 2012', 'Jeep Wrangler SUV 2012', 'Jeep Liberty SUV 2012', 'Jeep Grand Cherokee SUV 2012', 'Jeep Compass SUV 2012', 'Lamborghini Reventon Coupe 2008', 'Lamborghini Aventador Coupe 2012', 'Lamborghini Gallardo LP 570-4 Superleggera 2012', 'Lamborghini Diablo Coupe 2001', 'Land Rover Range Rover SUV 2012', 'Land Rover LR2 SUV 2012', 'Lincoln Town Car Sedan 2011', 'MINI Cooper Roadster Convertible 2012', 'Maybach Landaulet Convertible 2012', 'Mazda Tribute SUV 2011', 'McLaren MP4-12C Coupe 2012', 'Mercedes-Benz 300-Class Convertible 1993', 'Mercedes-Benz C-Class Sedan 2012', 'Mercedes-Benz SL-Class Coupe 2009', 'Mercedes-Benz E-Class Sedan 2012', 'Mercedes-Benz S-Class Sedan 2012', 'Mercedes-Benz Sprinter Van 2012', 'Mitsubishi Lancer Sedan 2012', 'Nissan Leaf Hatchback 2012', 'Nissan NV Passenger Van 2012', 'Nissan Juke Hatchback 2012', 'Nissan 240SX Coupe 1998', 'Plymouth Neon Coupe 1999', 'Porsche Panamera Sedan 2012', 'Ram C/V Cargo Van Minivan 2012', 'Rolls-Royce Phantom Drophead Coupe Convertible 2012', 'Rolls-Royce Ghost Sedan 2012', 'Rolls-Royce Phantom Sedan 2012', 'Scion xD Hatchback 2012', 'Spyker C8 Convertible 2009', 'Spyker C8 Coupe 2009', 'Suzuki Aerio Sedan 2007', 'Suzuki Kizashi Sedan 2012', 'Suzuki SX4 Hatchback 2012', 'Suzuki SX4 Sedan 2012', 'Tesla Model S Sedan 2012', 'Toyota Sequoia SUV 2012', 'Toyota Camry Sedan 2012', 'Toyota Corolla Sedan 2012', 'Toyota 4Runner SUV 2012', 'Volkswagen Golf Hatchback 2012', 'Volkswagen Golf Hatchback 1991', 'Volkswagen Beetle Hatchback 2012', 'Volvo C30 Hatchback 2012', 'Volvo 240 Sedan 1993', 'Volvo XC90 SUV 2007', 'smart fortwo Convertible 2012']"
      ],
      "metadata": {
        "colab": {
          "base_uri": "https://localhost:8080/"
        },
        "id": "HLYb8gm4QJx-",
        "outputId": "bce16838-48c5-4fa6-d73f-190f8b5e4122"
      },
      "execution_count": null,
      "outputs": [
        {
          "output_type": "stream",
          "name": "stdout",
          "text": [
            "Overwriting carData.yaml\n"
          ]
        }
      ]
    },
    {
      "cell_type": "code",
      "source": [
        "%cat carData.yaml"
      ],
      "metadata": {
        "colab": {
          "base_uri": "https://localhost:8080/"
        },
        "id": "4Zj4FieYRBC2",
        "outputId": "e28d9028-a0c9-4f9f-d2dc-598fe9914718"
      },
      "execution_count": null,
      "outputs": [
        {
          "output_type": "stream",
          "name": "stdout",
          "text": [
            "\n",
            "train: /content/drive/MyDrive/glaiml/car_data_yolo/train/images\n",
            "val: /content/drive/MyDrive/glaiml/car_data_yolo/val/images\n",
            "test: /content/drive/MyDrive/glaiml/car_data_yolo/test/images\n",
            "\n",
            "# number of classes\n",
            "nc: 196\n",
            "\n",
            "# class names\n",
            "names: ['AM General Hummer SUV 2000', 'Acura RL Sedan 2012', 'Acura TL Sedan 2012', 'Acura TL Type-S 2008', 'Acura TSX Sedan 2012', 'Acura Integra Type R 2001', 'Acura ZDX Hatchback 2012', 'Aston Martin V8 Vantage Convertible 2012', 'Aston Martin V8 Vantage Coupe 2012', 'Aston Martin Virage Convertible 2012', 'Aston Martin Virage Coupe 2012', 'Audi RS 4 Convertible 2008', 'Audi A5 Coupe 2012', 'Audi TTS Coupe 2012', 'Audi R8 Coupe 2012', 'Audi V8 Sedan 1994', 'Audi 100 Sedan 1994', 'Audi 100 Wagon 1994', 'Audi TT Hatchback 2011', 'Audi S6 Sedan 2011', 'Audi S5 Convertible 2012', 'Audi S5 Coupe 2012', 'Audi S4 Sedan 2012', 'Audi S4 Sedan 2007', 'Audi TT RS Coupe 2012', 'BMW ActiveHybrid 5 Sedan 2012', 'BMW 1 Series Convertible 2012', 'BMW 1 Series Coupe 2012', 'BMW 3 Series Sedan 2012', 'BMW 3 Series Wagon 2012', 'BMW 6 Series Convertible 2007', 'BMW X5 SUV 2007', 'BMW X6 SUV 2012', 'BMW M3 Coupe 2012', 'BMW M5 Sedan 2010', 'BMW M6 Convertible 2010', 'BMW X3 SUV 2012', 'BMW Z4 Convertible 2012', 'Bentley Continental Supersports Conv. Convertible 2012', 'Bentley Arnage Sedan 2009', 'Bentley Mulsanne Sedan 2011', 'Bentley Continental GT Coupe 2012', 'Bentley Continental GT Coupe 2007', 'Bentley Continental Flying Spur Sedan 2007', 'Bugatti Veyron 16.4 Convertible 2009', 'Bugatti Veyron 16.4 Coupe 2009', 'Buick Regal GS 2012', 'Buick Rainier SUV 2007', 'Buick Verano Sedan 2012', 'Buick Enclave SUV 2012', 'Cadillac CTS-V Sedan 2012', 'Cadillac SRX SUV 2012', 'Cadillac Escalade EXT Crew Cab 2007', 'Chevrolet Silverado 1500 Hybrid Crew Cab 2012', 'Chevrolet Corvette Convertible 2012', 'Chevrolet Corvette ZR1 2012', 'Chevrolet Corvette Ron Fellows Edition Z06 2007', 'Chevrolet Traverse SUV 2012', 'Chevrolet Camaro Convertible 2012', 'Chevrolet HHR SS 2010', 'Chevrolet Impala Sedan 2007', 'Chevrolet Tahoe Hybrid SUV 2012', 'Chevrolet Sonic Sedan 2012', 'Chevrolet Express Cargo Van 2007', 'Chevrolet Avalanche Crew Cab 2012', 'Chevrolet Cobalt SS 2010', 'Chevrolet Malibu Hybrid Sedan 2010', 'Chevrolet TrailBlazer SS 2009', 'Chevrolet Silverado 2500HD Regular Cab 2012', 'Chevrolet Silverado 1500 Classic Extended Cab 2007', 'Chevrolet Express Van 2007', 'Chevrolet Monte Carlo Coupe 2007', 'Chevrolet Malibu Sedan 2007', 'Chevrolet Silverado 1500 Extended Cab 2012', 'Chevrolet Silverado 1500 Regular Cab 2012', 'Chrysler Aspen SUV 2009', 'Chrysler Sebring Convertible 2010', 'Chrysler Town and Country Minivan 2012', 'Chrysler 300 SRT-8 2010', 'Chrysler Crossfire Convertible 2008', 'Chrysler PT Cruiser Convertible 2008', 'Daewoo Nubira Wagon 2002', 'Dodge Caliber Wagon 2012', 'Dodge Caliber Wagon 2007', 'Dodge Caravan Minivan 1997', 'Dodge Ram Pickup 3500 Crew Cab 2010', 'Dodge Ram Pickup 3500 Quad Cab 2009', 'Dodge Sprinter Cargo Van 2009', 'Dodge Journey SUV 2012', 'Dodge Dakota Crew Cab 2010', 'Dodge Dakota Club Cab 2007', 'Dodge Magnum Wagon 2008', 'Dodge Challenger SRT8 2011', 'Dodge Durango SUV 2012', 'Dodge Durango SUV 2007', 'Dodge Charger Sedan 2012', 'Dodge Charger SRT-8 2009', 'Eagle Talon Hatchback 1998', 'FIAT 500 Abarth 2012', 'FIAT 500 Convertible 2012', 'Ferrari FF Coupe 2012', 'Ferrari California Convertible 2012', 'Ferrari 458 Italia Convertible 2012', 'Ferrari 458 Italia Coupe 2012', 'Fisker Karma Sedan 2012', 'Ford F-450 Super Duty Crew Cab 2012', 'Ford Mustang Convertible 2007', 'Ford Freestar Minivan 2007', 'Ford Expedition EL SUV 2009', 'Ford Edge SUV 2012', 'Ford Ranger SuperCab 2011', 'Ford GT Coupe 2006', 'Ford F-150 Regular Cab 2012', 'Ford F-150 Regular Cab 2007', 'Ford Focus Sedan 2007', 'Ford E-Series Wagon Van 2012', 'Ford Fiesta Sedan 2012', 'GMC Terrain SUV 2012', 'GMC Savana Van 2012', 'GMC Yukon Hybrid SUV 2012', 'GMC Acadia SUV 2012', 'GMC Canyon Extended Cab 2012', 'Geo Metro Convertible 1993', 'HUMMER H3T Crew Cab 2010', 'HUMMER H2 SUT Crew Cab 2009', 'Honda Odyssey Minivan 2012', 'Honda Odyssey Minivan 2007', 'Honda Accord Coupe 2012', 'Honda Accord Sedan 2012', 'Hyundai Veloster Hatchback 2012', 'Hyundai Santa Fe SUV 2012', 'Hyundai Tucson SUV 2012', 'Hyundai Veracruz SUV 2012', 'Hyundai Sonata Hybrid Sedan 2012', 'Hyundai Elantra Sedan 2007', 'Hyundai Accent Sedan 2012', 'Hyundai Genesis Sedan 2012', 'Hyundai Sonata Sedan 2012', 'Hyundai Elantra Touring Hatchback 2012', 'Hyundai Azera Sedan 2012', 'Infiniti G Coupe IPL 2012', 'Infiniti QX56 SUV 2011', 'Isuzu Ascender SUV 2008', 'Jaguar XK XKR 2012', 'Jeep Patriot SUV 2012', 'Jeep Wrangler SUV 2012', 'Jeep Liberty SUV 2012', 'Jeep Grand Cherokee SUV 2012', 'Jeep Compass SUV 2012', 'Lamborghini Reventon Coupe 2008', 'Lamborghini Aventador Coupe 2012', 'Lamborghini Gallardo LP 570-4 Superleggera 2012', 'Lamborghini Diablo Coupe 2001', 'Land Rover Range Rover SUV 2012', 'Land Rover LR2 SUV 2012', 'Lincoln Town Car Sedan 2011', 'MINI Cooper Roadster Convertible 2012', 'Maybach Landaulet Convertible 2012', 'Mazda Tribute SUV 2011', 'McLaren MP4-12C Coupe 2012', 'Mercedes-Benz 300-Class Convertible 1993', 'Mercedes-Benz C-Class Sedan 2012', 'Mercedes-Benz SL-Class Coupe 2009', 'Mercedes-Benz E-Class Sedan 2012', 'Mercedes-Benz S-Class Sedan 2012', 'Mercedes-Benz Sprinter Van 2012', 'Mitsubishi Lancer Sedan 2012', 'Nissan Leaf Hatchback 2012', 'Nissan NV Passenger Van 2012', 'Nissan Juke Hatchback 2012', 'Nissan 240SX Coupe 1998', 'Plymouth Neon Coupe 1999', 'Porsche Panamera Sedan 2012', 'Ram C/V Cargo Van Minivan 2012', 'Rolls-Royce Phantom Drophead Coupe Convertible 2012', 'Rolls-Royce Ghost Sedan 2012', 'Rolls-Royce Phantom Sedan 2012', 'Scion xD Hatchback 2012', 'Spyker C8 Convertible 2009', 'Spyker C8 Coupe 2009', 'Suzuki Aerio Sedan 2007', 'Suzuki Kizashi Sedan 2012', 'Suzuki SX4 Hatchback 2012', 'Suzuki SX4 Sedan 2012', 'Tesla Model S Sedan 2012', 'Toyota Sequoia SUV 2012', 'Toyota Camry Sedan 2012', 'Toyota Corolla Sedan 2012', 'Toyota 4Runner SUV 2012', 'Volkswagen Golf Hatchback 2012', 'Volkswagen Golf Hatchback 1991', 'Volkswagen Beetle Hatchback 2012', 'Volvo C30 Hatchback 2012', 'Volvo 240 Sedan 1993', 'Volvo XC90 SUV 2007', 'smart fortwo Convertible 2012']"
          ]
        }
      ]
    },
    {
      "cell_type": "code",
      "source": [
        "names = ['AM General Hummer SUV 2000', 'Acura RL Sedan 2012', 'Acura TL Sedan 2012', 'Acura TL Type-S 2008', 'Acura TSX Sedan 2012', 'Acura Integra Type R 2001', 'Acura ZDX Hatchback 2012', 'Aston Martin V8 Vantage Convertible 2012', 'Aston Martin V8 Vantage Coupe 2012', 'Aston Martin Virage Convertible 2012', 'Aston Martin Virage Coupe 2012', 'Audi RS 4 Convertible 2008', 'Audi A5 Coupe 2012', 'Audi TTS Coupe 2012', 'Audi R8 Coupe 2012', 'Audi V8 Sedan 1994', 'Audi 100 Sedan 1994', 'Audi 100 Wagon 1994', 'Audi TT Hatchback 2011', 'Audi S6 Sedan 2011', 'Audi S5 Convertible 2012', 'Audi S5 Coupe 2012', 'Audi S4 Sedan 2012', 'Audi S4 Sedan 2007', 'Audi TT RS Coupe 2012', 'BMW ActiveHybrid 5 Sedan 2012', 'BMW 1 Series Convertible 2012', 'BMW 1 Series Coupe 2012', 'BMW 3 Series Sedan 2012', 'BMW 3 Series Wagon 2012', 'BMW 6 Series Convertible 2007', 'BMW X5 SUV 2007', 'BMW X6 SUV 2012', 'BMW M3 Coupe 2012', 'BMW M5 Sedan 2010', 'BMW M6 Convertible 2010', 'BMW X3 SUV 2012', 'BMW Z4 Convertible 2012', 'Bentley Continental Supersports Conv. Convertible 2012', 'Bentley Arnage Sedan 2009', 'Bentley Mulsanne Sedan 2011', 'Bentley Continental GT Coupe 2012', 'Bentley Continental GT Coupe 2007', 'Bentley Continental Flying Spur Sedan 2007', 'Bugatti Veyron 16.4 Convertible 2009', 'Bugatti Veyron 16.4 Coupe 2009', 'Buick Regal GS 2012', 'Buick Rainier SUV 2007', 'Buick Verano Sedan 2012', 'Buick Enclave SUV 2012', 'Cadillac CTS-V Sedan 2012', 'Cadillac SRX SUV 2012', 'Cadillac Escalade EXT Crew Cab 2007', 'Chevrolet Silverado 1500 Hybrid Crew Cab 2012', 'Chevrolet Corvette Convertible 2012', 'Chevrolet Corvette ZR1 2012', 'Chevrolet Corvette Ron Fellows Edition Z06 2007', 'Chevrolet Traverse SUV 2012', 'Chevrolet Camaro Convertible 2012', 'Chevrolet HHR SS 2010', 'Chevrolet Impala Sedan 2007', 'Chevrolet Tahoe Hybrid SUV 2012', 'Chevrolet Sonic Sedan 2012', 'Chevrolet Express Cargo Van 2007', 'Chevrolet Avalanche Crew Cab 2012', 'Chevrolet Cobalt SS 2010', 'Chevrolet Malibu Hybrid Sedan 2010', 'Chevrolet TrailBlazer SS 2009', 'Chevrolet Silverado 2500HD Regular Cab 2012', 'Chevrolet Silverado 1500 Classic Extended Cab 2007', 'Chevrolet Express Van 2007', 'Chevrolet Monte Carlo Coupe 2007', 'Chevrolet Malibu Sedan 2007', 'Chevrolet Silverado 1500 Extended Cab 2012', 'Chevrolet Silverado 1500 Regular Cab 2012', 'Chrysler Aspen SUV 2009', 'Chrysler Sebring Convertible 2010', 'Chrysler Town and Country Minivan 2012', 'Chrysler 300 SRT-8 2010', 'Chrysler Crossfire Convertible 2008', 'Chrysler PT Cruiser Convertible 2008', 'Daewoo Nubira Wagon 2002', 'Dodge Caliber Wagon 2012', 'Dodge Caliber Wagon 2007', 'Dodge Caravan Minivan 1997', 'Dodge Ram Pickup 3500 Crew Cab 2010', 'Dodge Ram Pickup 3500 Quad Cab 2009', 'Dodge Sprinter Cargo Van 2009', 'Dodge Journey SUV 2012', 'Dodge Dakota Crew Cab 2010', 'Dodge Dakota Club Cab 2007', 'Dodge Magnum Wagon 2008', 'Dodge Challenger SRT8 2011', 'Dodge Durango SUV 2012', 'Dodge Durango SUV 2007', 'Dodge Charger Sedan 2012', 'Dodge Charger SRT-8 2009', 'Eagle Talon Hatchback 1998', 'FIAT 500 Abarth 2012', 'FIAT 500 Convertible 2012', 'Ferrari FF Coupe 2012', 'Ferrari California Convertible 2012', 'Ferrari 458 Italia Convertible 2012', 'Ferrari 458 Italia Coupe 2012', 'Fisker Karma Sedan 2012', 'Ford F-450 Super Duty Crew Cab 2012', 'Ford Mustang Convertible 2007', 'Ford Freestar Minivan 2007', 'Ford Expedition EL SUV 2009', 'Ford Edge SUV 2012', 'Ford Ranger SuperCab 2011', 'Ford GT Coupe 2006', 'Ford F-150 Regular Cab 2012', 'Ford F-150 Regular Cab 2007', 'Ford Focus Sedan 2007', 'Ford E-Series Wagon Van 2012', 'Ford Fiesta Sedan 2012', 'GMC Terrain SUV 2012', 'GMC Savana Van 2012', 'GMC Yukon Hybrid SUV 2012', 'GMC Acadia SUV 2012', 'GMC Canyon Extended Cab 2012', 'Geo Metro Convertible 1993', 'HUMMER H3T Crew Cab 2010', 'HUMMER H2 SUT Crew Cab 2009', 'Honda Odyssey Minivan 2012', 'Honda Odyssey Minivan 2007', 'Honda Accord Coupe 2012', 'Honda Accord Sedan 2012', 'Hyundai Veloster Hatchback 2012', 'Hyundai Santa Fe SUV 2012', 'Hyundai Tucson SUV 2012', 'Hyundai Veracruz SUV 2012', 'Hyundai Sonata Hybrid Sedan 2012', 'Hyundai Elantra Sedan 2007', 'Hyundai Accent Sedan 2012', 'Hyundai Genesis Sedan 2012', 'Hyundai Sonata Sedan 2012', 'Hyundai Elantra Touring Hatchback 2012', 'Hyundai Azera Sedan 2012', 'Infiniti G Coupe IPL 2012', 'Infiniti QX56 SUV 2011', 'Isuzu Ascender SUV 2008', 'Jaguar XK XKR 2012', 'Jeep Patriot SUV 2012', 'Jeep Wrangler SUV 2012', 'Jeep Liberty SUV 2012', 'Jeep Grand Cherokee SUV 2012', 'Jeep Compass SUV 2012', 'Lamborghini Reventon Coupe 2008', 'Lamborghini Aventador Coupe 2012', 'Lamborghini Gallardo LP 570-4 Superleggera 2012', 'Lamborghini Diablo Coupe 2001', 'Land Rover Range Rover SUV 2012', 'Land Rover LR2 SUV 2012', 'Lincoln Town Car Sedan 2011', 'MINI Cooper Roadster Convertible 2012', 'Maybach Landaulet Convertible 2012', 'Mazda Tribute SUV 2011', 'McLaren MP4-12C Coupe 2012', 'Mercedes-Benz 300-Class Convertible 1993', 'Mercedes-Benz C-Class Sedan 2012', 'Mercedes-Benz SL-Class Coupe 2009', 'Mercedes-Benz E-Class Sedan 2012', 'Mercedes-Benz S-Class Sedan 2012', 'Mercedes-Benz Sprinter Van 2012', 'Mitsubishi Lancer Sedan 2012', 'Nissan Leaf Hatchback 2012', 'Nissan NV Passenger Van 2012', 'Nissan Juke Hatchback 2012', 'Nissan 240SX Coupe 1998', 'Plymouth Neon Coupe 1999', 'Porsche Panamera Sedan 2012', 'Ram C/V Cargo Van Minivan 2012', 'Rolls-Royce Phantom Drophead Coupe Convertible 2012', 'Rolls-Royce Ghost Sedan 2012', 'Rolls-Royce Phantom Sedan 2012', 'Scion xD Hatchback 2012', 'Spyker C8 Convertible 2009', 'Spyker C8 Coupe 2009', 'Suzuki Aerio Sedan 2007', 'Suzuki Kizashi Sedan 2012', 'Suzuki SX4 Hatchback 2012', 'Suzuki SX4 Sedan 2012', 'Tesla Model S Sedan 2012', 'Toyota Sequoia SUV 2012', 'Toyota Camry Sedan 2012', 'Toyota Corolla Sedan 2012', 'Toyota 4Runner SUV 2012', 'Volkswagen Golf Hatchback 2012', 'Volkswagen Golf Hatchback 1991', 'Volkswagen Beetle Hatchback 2012', 'Volvo C30 Hatchback 2012', 'Volvo 240 Sedan 1993', 'Volvo XC90 SUV 2007', 'smart fortwo Convertible 2012']\n",
        "len(names)"
      ],
      "metadata": {
        "colab": {
          "base_uri": "https://localhost:8080/"
        },
        "id": "iW9aC23o2IRm",
        "outputId": "821544ca-078f-42ad-ee98-4ae530f5414d"
      },
      "execution_count": null,
      "outputs": [
        {
          "output_type": "execute_result",
          "data": {
            "text/plain": [
              "196"
            ]
          },
          "metadata": {},
          "execution_count": 8
        }
      ]
    },
    {
      "cell_type": "markdown",
      "source": [
        "#3.0 YOLO V5 - Training / Testing the Dataset"
      ],
      "metadata": {
        "id": "RPu_yRqYLdf4"
      }
    },
    {
      "cell_type": "code",
      "source": [
        "%cd /content/yolov5"
      ],
      "metadata": {
        "colab": {
          "base_uri": "https://localhost:8080/"
        },
        "id": "R4iDvA0hLhsR",
        "outputId": "bff177ab-b5ee-4754-d71c-bb6bc8d1e98c"
      },
      "execution_count": null,
      "outputs": [
        {
          "output_type": "stream",
          "name": "stdout",
          "text": [
            "/content/yolov5\n"
          ]
        }
      ]
    },
    {
      "cell_type": "code",
      "source": [
        "!python train.py --img 160 --cfg yolov5s.yaml --hyp hyp.scratch.yaml --batch 32 --epochs 100 --data carData.yaml --weights yolov5s.pt --workers 24 --name yolo_car_classification"
      ],
      "metadata": {
        "id": "ryHaPoehTsz2",
        "colab": {
          "base_uri": "https://localhost:8080/"
        },
        "outputId": "cf54e63b-e0c6-4d68-a7ba-fb406b846029"
      },
      "execution_count": null,
      "outputs": [
        {
          "output_type": "stream",
          "name": "stdout",
          "text": [
            "Downloading https://ultralytics.com/assets/Arial.ttf to /root/.config/Ultralytics/Arial.ttf...\n",
            "\u001b[34m\u001b[1mtrain: \u001b[0mweights=yolov5s.pt, cfg=yolov5s.yaml, data=carData.yaml, hyp=hyp.scratch.yaml, epochs=100, batch_size=32, imgsz=160, rect=False, resume=False, nosave=False, noval=False, noautoanchor=False, evolve=None, bucket=, cache=None, image_weights=False, device=, multi_scale=False, single_cls=False, adam=False, sync_bn=False, workers=24, project=runs/train, name=yolo_car_classification, exist_ok=False, quad=False, linear_lr=False, label_smoothing=0.0, patience=100, freeze=[0], save_period=-1, local_rank=-1, entity=None, upload_dataset=False, bbox_interval=-1, artifact_alias=latest\n",
            "\u001b[34m\u001b[1mgithub: \u001b[0mup to date with https://github.com/ultralytics/yolov5 ✅\n",
            "YOLOv5 🚀 v6.0-155-gdc54ed5 torch 1.10.0+cu111 CUDA:0 (Tesla K80, 11441MiB)\n",
            "\n",
            "\u001b[34m\u001b[1mhyperparameters: \u001b[0mlr0=0.01, lrf=0.1, momentum=0.937, weight_decay=0.0005, warmup_epochs=3.0, warmup_momentum=0.8, warmup_bias_lr=0.1, box=0.05, cls=0.5, cls_pw=1.0, obj=1.0, obj_pw=1.0, iou_t=0.2, anchor_t=4.0, fl_gamma=0.0, hsv_h=0.015, hsv_s=0.7, hsv_v=0.4, degrees=0.0, translate=0.1, scale=0.5, shear=0.0, perspective=0.0, flipud=0.0, fliplr=0.5, mosaic=1.0, mixup=0.0, copy_paste=0.0\n",
            "\u001b[34m\u001b[1mWeights & Biases: \u001b[0mrun 'pip install wandb' to automatically track and visualize YOLOv5 🚀 runs (RECOMMENDED)\n",
            "\u001b[34m\u001b[1mTensorBoard: \u001b[0mStart with 'tensorboard --logdir runs/train', view at http://localhost:6006/\n",
            "Downloading https://github.com/ultralytics/yolov5/releases/download/v6.0/yolov5s.pt to yolov5s.pt...\n",
            "100% 14.0M/14.0M [00:00<00:00, 90.3MB/s]\n",
            "\n",
            "Overriding model.yaml nc=80 with nc=196\n",
            "\n",
            "                 from  n    params  module                                  arguments                     \n",
            "  0                -1  1      3520  models.common.Conv                      [3, 32, 6, 2, 2]              \n",
            "  1                -1  1     18560  models.common.Conv                      [32, 64, 3, 2]                \n",
            "  2                -1  1     18816  models.common.C3                        [64, 64, 1]                   \n",
            "  3                -1  1     73984  models.common.Conv                      [64, 128, 3, 2]               \n",
            "  4                -1  2    115712  models.common.C3                        [128, 128, 2]                 \n",
            "  5                -1  1    295424  models.common.Conv                      [128, 256, 3, 2]              \n",
            "  6                -1  3    625152  models.common.C3                        [256, 256, 3]                 \n",
            "  7                -1  1   1180672  models.common.Conv                      [256, 512, 3, 2]              \n",
            "  8                -1  1   1182720  models.common.C3                        [512, 512, 1]                 \n",
            "  9                -1  1    656896  models.common.SPPF                      [512, 512, 5]                 \n",
            " 10                -1  1    131584  models.common.Conv                      [512, 256, 1, 1]              \n",
            " 11                -1  1         0  torch.nn.modules.upsampling.Upsample    [None, 2, 'nearest']          \n",
            " 12           [-1, 6]  1         0  models.common.Concat                    [1]                           \n",
            " 13                -1  1    361984  models.common.C3                        [512, 256, 1, False]          \n",
            " 14                -1  1     33024  models.common.Conv                      [256, 128, 1, 1]              \n",
            " 15                -1  1         0  torch.nn.modules.upsampling.Upsample    [None, 2, 'nearest']          \n",
            " 16           [-1, 4]  1         0  models.common.Concat                    [1]                           \n",
            " 17                -1  1     90880  models.common.C3                        [256, 128, 1, False]          \n",
            " 18                -1  1    147712  models.common.Conv                      [128, 128, 3, 2]              \n",
            " 19          [-1, 14]  1         0  models.common.Concat                    [1]                           \n",
            " 20                -1  1    296448  models.common.C3                        [256, 256, 1, False]          \n",
            " 21                -1  1    590336  models.common.Conv                      [256, 256, 3, 2]              \n",
            " 22          [-1, 10]  1         0  models.common.Concat                    [1]                           \n",
            " 23                -1  1   1182720  models.common.C3                        [512, 512, 1, False]          \n",
            " 24      [17, 20, 23]  1    542097  models.yolo.Detect                      [196, [[10, 13, 16, 30, 33, 23], [30, 61, 62, 45, 59, 119], [116, 90, 156, 198, 373, 326]], [128, 256, 512]]\n",
            "Model Summary: 270 layers, 7548241 parameters, 7548241 gradients, 17.5 GFLOPs\n",
            "\n",
            "Transferred 342/349 items from yolov5s.pt\n",
            "Scaled weight_decay = 0.0005\n",
            "\u001b[34m\u001b[1moptimizer:\u001b[0m SGD with parameter groups 57 weight, 60 weight (no decay), 60 bias\n",
            "\u001b[34m\u001b[1malbumentations: \u001b[0mversion 1.0.3 required by YOLOv5, but version 0.1.12 is currently installed\n",
            "\u001b[34m\u001b[1mtrain: \u001b[0mScanning '/content/drive/MyDrive/glaiml/car_data_yolo/train/labels' images and labels...6581 found, 0 missing, 0 empty, 1 corrupted: 100% 6581/6581 [21:57<00:00,  5.00it/s]\n",
            "\u001b[34m\u001b[1mtrain: \u001b[0mWARNING: /content/drive/MyDrive/glaiml/car_data_yolo/train/images/07389.jpg: ignoring corrupt image/label: non-normalized or out of bounds coordinates [     1.1476]\n",
            "\u001b[34m\u001b[1mtrain: \u001b[0mNew cache created: /content/drive/MyDrive/glaiml/car_data_yolo/train/labels.cache\n",
            "\u001b[34m\u001b[1mval: \u001b[0mScanning '/content/drive/MyDrive/glaiml/car_data_yolo/val/labels' images and labels...1563 found, 0 missing, 0 empty, 0 corrupted: 100% 1563/1563 [04:47<00:00,  5.43it/s]\n",
            "\u001b[34m\u001b[1mval: \u001b[0mNew cache created: /content/drive/MyDrive/glaiml/car_data_yolo/val/labels.cache\n",
            "Plotting labels to runs/train/yolo_car_classification/labels.jpg... \n",
            "\n",
            "\u001b[34m\u001b[1mAutoAnchor: \u001b[0m4.81 anchors/target, 1.000 Best Possible Recall (BPR). Current anchors are a good fit to dataset ✅\n",
            "Image sizes 160 train, 160 val\n",
            "Using 2 dataloader workers\n",
            "Logging results to \u001b[1mruns/train/yolo_car_classification\u001b[0m\n",
            "Starting training for 100 epochs...\n",
            "\n",
            "     Epoch   gpu_mem       box       obj       cls    labels  img_size\n",
            "      0/99      0.6G   0.06033   0.01942    0.1233        52       160: 100% 206/206 [05:06<00:00,  1.49s/it]\n",
            "               Class     Images     Labels          P          R     mAP@.5 mAP@.5:.95: 100% 25/25 [00:27<00:00,  1.09s/it]\n",
            "                 all       1563       1563    0.00508      0.727     0.0109    0.00821\n",
            "\n",
            "     Epoch   gpu_mem       box       obj       cls    labels  img_size\n",
            "      1/99     1.03G   0.03167   0.01291    0.1209        63       160: 100% 206/206 [04:56<00:00,  1.44s/it]\n",
            "               Class     Images     Labels          P          R     mAP@.5 mAP@.5:.95: 100% 25/25 [00:27<00:00,  1.11s/it]\n",
            "                 all       1563       1563    0.00513      0.875     0.0107     0.0089\n",
            "\n",
            "     Epoch   gpu_mem       box       obj       cls    labels  img_size\n",
            "      2/99     1.03G   0.03042   0.01096    0.1199        44       160: 100% 206/206 [04:55<00:00,  1.43s/it]\n",
            "               Class     Images     Labels          P          R     mAP@.5 mAP@.5:.95: 100% 25/25 [00:27<00:00,  1.10s/it]\n",
            "                 all       1563       1563    0.00512      0.772    0.00937    0.00774\n",
            "\n",
            "     Epoch   gpu_mem       box       obj       cls    labels  img_size\n",
            "      3/99     1.03G   0.02691  0.009925    0.1194        47       160: 100% 206/206 [04:51<00:00,  1.41s/it]\n",
            "               Class     Images     Labels          P          R     mAP@.5 mAP@.5:.95: 100% 25/25 [00:27<00:00,  1.12s/it]\n",
            "                 all       1563       1563    0.00508          1     0.0118    0.00988\n",
            "\n",
            "     Epoch   gpu_mem       box       obj       cls    labels  img_size\n",
            "      4/99     1.03G   0.02324  0.009232    0.1191        49       160: 100% 206/206 [04:52<00:00,  1.42s/it]\n",
            "               Class     Images     Labels          P          R     mAP@.5 mAP@.5:.95: 100% 25/25 [00:28<00:00,  1.12s/it]\n",
            "                 all       1563       1563    0.00514       0.89     0.0107    0.00915\n",
            "\n",
            "     Epoch   gpu_mem       box       obj       cls    labels  img_size\n",
            "      5/99     1.03G   0.02056  0.008755    0.1188        45       160: 100% 206/206 [04:45<00:00,  1.39s/it]\n",
            "               Class     Images     Labels          P          R     mAP@.5 mAP@.5:.95: 100% 25/25 [00:26<00:00,  1.05s/it]\n",
            "                 all       1563       1563    0.00516      0.937     0.0122     0.0108\n",
            "\n",
            "     Epoch   gpu_mem       box       obj       cls    labels  img_size\n",
            "      6/99     1.03G   0.01885  0.008316    0.1187        56       160: 100% 206/206 [04:41<00:00,  1.36s/it]\n",
            "               Class     Images     Labels          P          R     mAP@.5 mAP@.5:.95: 100% 25/25 [00:26<00:00,  1.06s/it]\n",
            "                 all       1563       1563    0.00561      0.483     0.0113     0.0101\n",
            "\n",
            "     Epoch   gpu_mem       box       obj       cls    labels  img_size\n",
            "      7/99     1.03G   0.01816  0.008092    0.1185        46       160: 100% 206/206 [04:41<00:00,  1.37s/it]\n",
            "               Class     Images     Labels          P          R     mAP@.5 mAP@.5:.95: 100% 25/25 [00:26<00:00,  1.06s/it]\n",
            "                 all       1563       1563     0.0106      0.558     0.0127     0.0113\n",
            "\n",
            "     Epoch   gpu_mem       box       obj       cls    labels  img_size\n",
            "      8/99     1.03G   0.01731  0.007843    0.1183        61       160: 100% 206/206 [04:41<00:00,  1.37s/it]\n",
            "               Class     Images     Labels          P          R     mAP@.5 mAP@.5:.95: 100% 25/25 [00:27<00:00,  1.09s/it]\n",
            "                 all       1563       1563    0.00547      0.557     0.0134     0.0121\n",
            "\n",
            "     Epoch   gpu_mem       box       obj       cls    labels  img_size\n",
            "      9/99     1.03G   0.01689  0.007731    0.1182        48       160: 100% 206/206 [04:51<00:00,  1.42s/it]\n",
            "               Class     Images     Labels          P          R     mAP@.5 mAP@.5:.95: 100% 25/25 [00:26<00:00,  1.07s/it]\n",
            "                 all       1563       1563     0.0106      0.616     0.0133      0.012\n",
            "\n",
            "     Epoch   gpu_mem       box       obj       cls    labels  img_size\n",
            "     10/99     1.03G   0.01644  0.007672    0.1181        50       160: 100% 206/206 [04:45<00:00,  1.38s/it]\n",
            "               Class     Images     Labels          P          R     mAP@.5 mAP@.5:.95: 100% 25/25 [00:26<00:00,  1.07s/it]\n",
            "                 all       1563       1563    0.00565      0.678      0.013     0.0118\n",
            "\n",
            "     Epoch   gpu_mem       box       obj       cls    labels  img_size\n",
            "     11/99     1.03G   0.01599  0.007525    0.1181        60       160: 100% 206/206 [04:51<00:00,  1.41s/it]\n",
            "               Class     Images     Labels          P          R     mAP@.5 mAP@.5:.95: 100% 25/25 [00:27<00:00,  1.08s/it]\n",
            "                 all       1563       1563     0.0058      0.651     0.0138     0.0126\n",
            "\n",
            "     Epoch   gpu_mem       box       obj       cls    labels  img_size\n",
            "     12/99     1.03G   0.01578  0.007476     0.118        54       160: 100% 206/206 [04:45<00:00,  1.39s/it]\n",
            "               Class     Images     Labels          P          R     mAP@.5 mAP@.5:.95: 100% 25/25 [00:26<00:00,  1.06s/it]\n",
            "                 all       1563       1563    0.00565      0.634      0.013     0.0119\n",
            "\n",
            "     Epoch   gpu_mem       box       obj       cls    labels  img_size\n",
            "     13/99     1.03G    0.0156   0.00742    0.1179        57       160: 100% 206/206 [04:44<00:00,  1.38s/it]\n",
            "               Class     Images     Labels          P          R     mAP@.5 mAP@.5:.95: 100% 25/25 [00:27<00:00,  1.10s/it]\n",
            "                 all       1563       1563      0.075      0.302     0.0152     0.0137\n",
            "\n",
            "     Epoch   gpu_mem       box       obj       cls    labels  img_size\n",
            "     14/99     1.03G   0.01545  0.007435    0.1179        58       160: 100% 206/206 [04:45<00:00,  1.39s/it]\n",
            "               Class     Images     Labels          P          R     mAP@.5 mAP@.5:.95: 100% 25/25 [00:28<00:00,  1.13s/it]\n",
            "                 all       1563       1563    0.00578      0.676     0.0142     0.0129\n",
            "\n",
            "     Epoch   gpu_mem       box       obj       cls    labels  img_size\n",
            "     15/99     1.03G   0.01519  0.007317    0.1178        56       160: 100% 206/206 [04:53<00:00,  1.42s/it]\n",
            "               Class     Images     Labels          P          R     mAP@.5 mAP@.5:.95: 100% 25/25 [00:27<00:00,  1.11s/it]\n",
            "                 all       1563       1563    0.00651      0.711     0.0136     0.0123\n",
            "\n",
            "     Epoch   gpu_mem       box       obj       cls    labels  img_size\n",
            "     16/99     1.03G   0.01497   0.00735    0.1177        53       160: 100% 206/206 [04:45<00:00,  1.39s/it]\n",
            "               Class     Images     Labels          P          R     mAP@.5 mAP@.5:.95: 100% 25/25 [00:29<00:00,  1.17s/it]\n",
            "                 all       1563       1563     0.0116      0.672     0.0149     0.0135\n",
            "\n",
            "     Epoch   gpu_mem       box       obj       cls    labels  img_size\n",
            "     17/99     1.03G   0.01526  0.007287    0.1176        52       160: 100% 206/206 [04:56<00:00,  1.44s/it]\n",
            "               Class     Images     Labels          P          R     mAP@.5 mAP@.5:.95: 100% 25/25 [00:27<00:00,  1.09s/it]\n",
            "                 all       1563       1563    0.00639      0.732     0.0175     0.0155\n",
            "\n",
            "     Epoch   gpu_mem       box       obj       cls    labels  img_size\n",
            "     18/99     1.03G    0.0148  0.007206    0.1174        54       160: 100% 206/206 [04:57<00:00,  1.45s/it]\n",
            "               Class     Images     Labels          P          R     mAP@.5 mAP@.5:.95: 100% 25/25 [00:29<00:00,  1.18s/it]\n",
            "                 all       1563       1563    0.00686      0.762     0.0194     0.0169\n",
            "\n",
            "     Epoch   gpu_mem       box       obj       cls    labels  img_size\n",
            "     19/99     1.03G   0.01468  0.007114    0.1173        63       160: 100% 206/206 [05:52<00:00,  1.71s/it]\n",
            "               Class     Images     Labels          P          R     mAP@.5 mAP@.5:.95: 100% 25/25 [00:26<00:00,  1.07s/it]\n",
            "                 all       1563       1563     0.0244      0.415     0.0213     0.0186\n",
            "\n",
            "     Epoch   gpu_mem       box       obj       cls    labels  img_size\n",
            "     20/99     1.03G   0.01469  0.007174    0.1169        59       160: 100% 206/206 [04:53<00:00,  1.43s/it]\n",
            "               Class     Images     Labels          P          R     mAP@.5 mAP@.5:.95: 100% 25/25 [00:27<00:00,  1.12s/it]\n",
            "                 all       1563       1563     0.0226      0.479     0.0249     0.0213\n",
            "\n",
            "     Epoch   gpu_mem       box       obj       cls    labels  img_size\n",
            "     21/99     1.03G   0.01473  0.007168    0.1162        62       160: 100% 206/206 [04:50<00:00,  1.41s/it]\n",
            "               Class     Images     Labels          P          R     mAP@.5 mAP@.5:.95: 100% 25/25 [00:26<00:00,  1.08s/it]\n",
            "                 all       1563       1563     0.0502      0.318     0.0264     0.0232\n",
            "\n",
            "     Epoch   gpu_mem       box       obj       cls    labels  img_size\n",
            "     22/99     1.03G   0.01468  0.007187    0.1152        63       160: 100% 206/206 [04:45<00:00,  1.39s/it]\n",
            "               Class     Images     Labels          P          R     mAP@.5 mAP@.5:.95: 100% 25/25 [00:26<00:00,  1.07s/it]\n",
            "                 all       1563       1563      0.361      0.195     0.0332     0.0291\n",
            "\n",
            "     Epoch   gpu_mem       box       obj       cls    labels  img_size\n",
            "     23/99     1.03G   0.01501  0.007101    0.1142        61       160: 100% 206/206 [04:44<00:00,  1.38s/it]\n",
            "               Class     Images     Labels          P          R     mAP@.5 mAP@.5:.95: 100% 25/25 [00:26<00:00,  1.07s/it]\n",
            "                 all       1563       1563      0.104       0.38     0.0358     0.0316\n",
            "\n",
            "     Epoch   gpu_mem       box       obj       cls    labels  img_size\n",
            "     24/99     1.03G   0.01533  0.007167    0.1131        51       160: 100% 206/206 [04:46<00:00,  1.39s/it]\n",
            "               Class     Images     Labels          P          R     mAP@.5 mAP@.5:.95: 100% 25/25 [00:26<00:00,  1.07s/it]\n",
            "                 all       1563       1563     0.0478      0.557     0.0386     0.0337\n",
            "\n",
            "     Epoch   gpu_mem       box       obj       cls    labels  img_size\n",
            "     25/99     1.03G   0.01526  0.007167    0.1121        58       160: 100% 206/206 [04:47<00:00,  1.40s/it]\n",
            "               Class     Images     Labels          P          R     mAP@.5 mAP@.5:.95: 100% 25/25 [00:27<00:00,  1.09s/it]\n",
            "                 all       1563       1563      0.148      0.399     0.0422     0.0368\n",
            "\n",
            "     Epoch   gpu_mem       box       obj       cls    labels  img_size\n",
            "     26/99     1.03G   0.01572    0.0073    0.1111        59       160: 100% 206/206 [04:44<00:00,  1.38s/it]\n",
            "               Class     Images     Labels          P          R     mAP@.5 mAP@.5:.95: 100% 25/25 [00:27<00:00,  1.10s/it]\n",
            "                 all       1563       1563      0.103      0.448     0.0465     0.0407\n",
            "\n",
            "     Epoch   gpu_mem       box       obj       cls    labels  img_size\n",
            "     27/99     1.03G   0.01556  0.007128    0.1102        51       160: 100% 206/206 [04:47<00:00,  1.40s/it]\n",
            "               Class     Images     Labels          P          R     mAP@.5 mAP@.5:.95: 100% 25/25 [00:27<00:00,  1.11s/it]\n",
            "                 all       1563       1563     0.0832      0.455      0.045     0.0397\n",
            "\n",
            "     Epoch   gpu_mem       box       obj       cls    labels  img_size\n",
            "     28/99     1.03G   0.01578  0.007234    0.1093        60       160: 100% 206/206 [04:46<00:00,  1.39s/it]\n",
            "               Class     Images     Labels          P          R     mAP@.5 mAP@.5:.95: 100% 25/25 [00:26<00:00,  1.05s/it]\n",
            "                 all       1563       1563     0.0466      0.549     0.0517     0.0458\n",
            "\n",
            "     Epoch   gpu_mem       box       obj       cls    labels  img_size\n",
            "     29/99     1.03G   0.01598  0.007124    0.1088        52       160: 100% 206/206 [04:46<00:00,  1.39s/it]\n",
            "               Class     Images     Labels          P          R     mAP@.5 mAP@.5:.95: 100% 25/25 [00:28<00:00,  1.13s/it]\n",
            "                 all       1563       1563      0.119      0.463     0.0564     0.0497\n",
            "\n",
            "     Epoch   gpu_mem       box       obj       cls    labels  img_size\n",
            "     30/99     1.03G   0.01585  0.007138     0.108        48       160: 100% 206/206 [04:45<00:00,  1.38s/it]\n",
            "               Class     Images     Labels          P          R     mAP@.5 mAP@.5:.95: 100% 25/25 [00:27<00:00,  1.09s/it]\n",
            "                 all       1563       1563      0.126      0.488     0.0589     0.0516\n",
            "\n",
            "     Epoch   gpu_mem       box       obj       cls    labels  img_size\n",
            "     31/99     1.03G   0.01585  0.007182    0.1073        49       160: 100% 206/206 [04:44<00:00,  1.38s/it]\n",
            "               Class     Images     Labels          P          R     mAP@.5 mAP@.5:.95: 100% 25/25 [00:26<00:00,  1.07s/it]\n",
            "                 all       1563       1563       0.27      0.414     0.0631     0.0563\n",
            "\n",
            "     Epoch   gpu_mem       box       obj       cls    labels  img_size\n",
            "     32/99     1.03G    0.0159  0.007117    0.1066        52       160: 100% 206/206 [04:42<00:00,  1.37s/it]\n",
            "               Class     Images     Labels          P          R     mAP@.5 mAP@.5:.95: 100% 25/25 [00:26<00:00,  1.05s/it]\n",
            "                 all       1563       1563     0.0552      0.643     0.0624     0.0551\n",
            "\n",
            "     Epoch   gpu_mem       box       obj       cls    labels  img_size\n",
            "     33/99     1.03G   0.01614   0.00728     0.106        58       160: 100% 206/206 [04:41<00:00,  1.36s/it]\n",
            "               Class     Images     Labels          P          R     mAP@.5 mAP@.5:.95: 100% 25/25 [00:26<00:00,  1.06s/it]\n",
            "                 all       1563       1563      0.212      0.422     0.0645     0.0572\n",
            "\n",
            "     Epoch   gpu_mem       box       obj       cls    labels  img_size\n",
            "     34/99     1.03G   0.01591  0.007169    0.1055        86       160:  99% 203/206 [04:37<00:03,  1.27s/it]"
          ]
        }
      ]
    },
    {
      "cell_type": "code",
      "source": [
        "!python test.py --weights runs/train/yolo_car_classification/weights/best.pt --data carData.yaml --task test --name yolo_car_class_det\n"
      ],
      "metadata": {
        "id": "u6AEIcJYWbch"
      },
      "execution_count": null,
      "outputs": []
    },
    {
      "cell_type": "code",
      "source": [
        "cd /content/drive/MyDrive/glaiml/car_data_yolo/val/labels"
      ],
      "metadata": {
        "colab": {
          "base_uri": "https://localhost:8080/"
        },
        "id": "_CyP6songD8G",
        "outputId": "57f7c84e-15c9-4e7e-9ee9-dc48d2c73305"
      },
      "execution_count": null,
      "outputs": [
        {
          "output_type": "stream",
          "name": "stdout",
          "text": [
            "/content/drive/MyDrive/glaiml/car_data_yolo/val/labels\n"
          ]
        }
      ]
    },
    {
      "cell_type": "code",
      "source": [
        "path = '/content/drive/MyDrive/glaiml/car_data_yolo/train/labels' #path of labels\n",
        "labels = os.listdir('path')\n",
        "for x in labels[:10]:\n",
        "  with open('path'+x) as f:\n",
        "    lines = f.read().splitlines()\n",
        "    for y in lines:\n",
        "      if y[:1]!='0':\n",
        "          print(x)"
      ],
      "metadata": {
        "id": "FqtSdokE3qBn"
      },
      "execution_count": null,
      "outputs": []
    },
    {
      "cell_type": "markdown",
      "source": [
        "References:\n",
        "Try and have this reference later. "
      ],
      "metadata": {
        "id": "XB5u2PEWho26"
      }
    }
  ]
}